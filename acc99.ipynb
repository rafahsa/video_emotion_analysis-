{
  "cells": [
    {
      "cell_type": "markdown",
      "metadata": {
        "id": "view-in-github",
        "colab_type": "text"
      },
      "source": [
        "<a href=\"https://colab.research.google.com/github/rafahsa/video_emotion_analysis-/blob/main/acc99.ipynb\" target=\"_parent\"><img src=\"https://colab.research.google.com/assets/colab-badge.svg\" alt=\"Open In Colab\"/></a>"
      ]
    },
    {
      "cell_type": "code",
      "execution_count": 5,
      "metadata": {
        "colab": {
          "base_uri": "https://localhost:8080/"
        },
        "id": "EbpXb479Gs83",
        "outputId": "5fd28ecb-1668-443c-d14f-b5cfcec26a2d"
      },
      "outputs": [
        {
          "output_type": "stream",
          "name": "stdout",
          "text": [
            "Drive already mounted at /content/drive; to attempt to forcibly remount, call drive.mount(\"/content/drive\", force_remount=True).\n"
          ]
        }
      ],
      "source": [
        "from google.colab import drive\n",
        "drive.mount('/content/drive')\n",
        "\n"
      ]
    },
    {
      "cell_type": "code",
      "execution_count": null,
      "metadata": {
        "colab": {
          "base_uri": "https://localhost:8080/"
        },
        "id": "eQhKVcErNsW-",
        "outputId": "a31db05d-1382-47f3-e1fc-2e9e3794eaa5"
      },
      "outputs": [
        {
          "output_type": "stream",
          "name": "stdout",
          "text": [
            "عدد المجلدات/العناصر: 5\n",
            "بعض العناصر: ['test', 'train', 'landmarks_train.csv', 'landmarks_test.csv', 'acc99.h5']\n"
          ]
        }
      ],
      "source": [
        "import os\n",
        "\n",
        "# عدّل اسم المجلد حسب مكان بياناتك في Google Drive\n",
        "root_folder = '/content/drive/My Drive/my_data'\n",
        "\n",
        "if not os.path.exists(root_folder):\n",
        "    raise Exception(\"المجلد غير موجود! عدّل المسار حسب مكان مجلدك.\")\n",
        "else:\n",
        "    print(\"عدد المجلدات/العناصر:\", len(os.listdir(root_folder)))\n",
        "    print(\"بعض العناصر:\", os.listdir(root_folder)[:10])\n"
      ]
    },
    {
      "cell_type": "code",
      "execution_count": 1,
      "metadata": {
        "colab": {
          "base_uri": "https://localhost:8080/"
        },
        "collapsed": true,
        "id": "95NtAExemIO-",
        "outputId": "e3343378-c7c6-4e1c-aa1a-9ee11ab010b5"
      },
      "outputs": [
        {
          "output_type": "stream",
          "name": "stdout",
          "text": [
            "Requirement already satisfied: pip in /usr/local/lib/python3.11/dist-packages (25.1.1)\n",
            "Requirement already satisfied: numpy==1.26.4 in /usr/local/lib/python3.11/dist-packages (1.26.4)\n",
            "Requirement already satisfied: mediapipe in /usr/local/lib/python3.11/dist-packages (0.10.21)\n",
            "Requirement already satisfied: opencv-python in /usr/local/lib/python3.11/dist-packages (4.11.0.86)\n",
            "Requirement already satisfied: tqdm in /usr/local/lib/python3.11/dist-packages (4.67.1)\n",
            "Requirement already satisfied: absl-py in /usr/local/lib/python3.11/dist-packages (from mediapipe) (1.4.0)\n",
            "Requirement already satisfied: attrs>=19.1.0 in /usr/local/lib/python3.11/dist-packages (from mediapipe) (25.3.0)\n",
            "Requirement already satisfied: flatbuffers>=2.0 in /usr/local/lib/python3.11/dist-packages (from mediapipe) (25.2.10)\n",
            "Requirement already satisfied: jax in /usr/local/lib/python3.11/dist-packages (from mediapipe) (0.5.2)\n",
            "Requirement already satisfied: jaxlib in /usr/local/lib/python3.11/dist-packages (from mediapipe) (0.5.1)\n",
            "Requirement already satisfied: matplotlib in /usr/local/lib/python3.11/dist-packages (from mediapipe) (3.10.0)\n",
            "Requirement already satisfied: opencv-contrib-python in /usr/local/lib/python3.11/dist-packages (from mediapipe) (4.11.0.86)\n",
            "Requirement already satisfied: protobuf<5,>=4.25.3 in /usr/local/lib/python3.11/dist-packages (from mediapipe) (4.25.8)\n",
            "Requirement already satisfied: sounddevice>=0.4.4 in /usr/local/lib/python3.11/dist-packages (from mediapipe) (0.5.2)\n",
            "Requirement already satisfied: sentencepiece in /usr/local/lib/python3.11/dist-packages (from mediapipe) (0.2.0)\n",
            "Requirement already satisfied: CFFI>=1.0 in /usr/local/lib/python3.11/dist-packages (from sounddevice>=0.4.4->mediapipe) (1.17.1)\n",
            "Requirement already satisfied: pycparser in /usr/local/lib/python3.11/dist-packages (from CFFI>=1.0->sounddevice>=0.4.4->mediapipe) (2.22)\n",
            "Requirement already satisfied: ml_dtypes>=0.4.0 in /usr/local/lib/python3.11/dist-packages (from jax->mediapipe) (0.4.1)\n",
            "Requirement already satisfied: opt_einsum in /usr/local/lib/python3.11/dist-packages (from jax->mediapipe) (3.4.0)\n",
            "Requirement already satisfied: scipy>=1.11.1 in /usr/local/lib/python3.11/dist-packages (from jax->mediapipe) (1.15.3)\n",
            "Requirement already satisfied: contourpy>=1.0.1 in /usr/local/lib/python3.11/dist-packages (from matplotlib->mediapipe) (1.3.2)\n",
            "Requirement already satisfied: cycler>=0.10 in /usr/local/lib/python3.11/dist-packages (from matplotlib->mediapipe) (0.12.1)\n",
            "Requirement already satisfied: fonttools>=4.22.0 in /usr/local/lib/python3.11/dist-packages (from matplotlib->mediapipe) (4.58.4)\n",
            "Requirement already satisfied: kiwisolver>=1.3.1 in /usr/local/lib/python3.11/dist-packages (from matplotlib->mediapipe) (1.4.8)\n",
            "Requirement already satisfied: packaging>=20.0 in /usr/local/lib/python3.11/dist-packages (from matplotlib->mediapipe) (24.2)\n",
            "Requirement already satisfied: pillow>=8 in /usr/local/lib/python3.11/dist-packages (from matplotlib->mediapipe) (11.2.1)\n",
            "Requirement already satisfied: pyparsing>=2.3.1 in /usr/local/lib/python3.11/dist-packages (from matplotlib->mediapipe) (3.2.3)\n",
            "Requirement already satisfied: python-dateutil>=2.7 in /usr/local/lib/python3.11/dist-packages (from matplotlib->mediapipe) (2.9.0.post0)\n",
            "Requirement already satisfied: six>=1.5 in /usr/local/lib/python3.11/dist-packages (from python-dateutil>=2.7->matplotlib->mediapipe) (1.17.0)\n"
          ]
        }
      ],
      "source": [
        "!python -m pip install --upgrade pip\n",
        "!python -m pip install numpy==1.26.4 mediapipe opencv-python tqdm\n"
      ]
    },
    {
      "cell_type": "code",
      "execution_count": 2,
      "metadata": {
        "colab": {
          "base_uri": "https://localhost:8080/"
        },
        "id": "P8FVEy1w5VIE",
        "outputId": "bc4bab7b-da41-4136-8767-c34236ee677e"
      },
      "outputs": [
        {
          "output_type": "stream",
          "name": "stdout",
          "text": [
            "كل شيء يعمل ✅\n"
          ]
        }
      ],
      "source": [
        "import numpy as np\n",
        "import pandas as pd\n",
        "import tensorflow as tf\n",
        "from sklearn.model_selection import train_test_split\n",
        "from sklearn.preprocessing import LabelEncoder\n",
        "from sklearn.metrics import classification_report, confusion_matrix, ConfusionMatrixDisplay\n",
        "from tensorflow.keras.utils import to_categorical, Sequence\n",
        "import matplotlib.pyplot as plt\n",
        "print(\"كل شيء يعمل ✅\")\n"
      ]
    },
    {
      "cell_type": "code",
      "execution_count": null,
      "metadata": {
        "colab": {
          "base_uri": "https://localhost:8080/"
        },
        "id": "hrBQAUXtUx_L",
        "outputId": "4bca4e18-328e-4b7c-d923-edeb389339fb"
      },
      "outputs": [
        {
          "output_type": "stream",
          "name": "stdout",
          "text": [
            "(5760, 1407)\n",
            "       lm_0      lm_1      lm_2      lm_3      lm_4      lm_5      lm_6  \\\n",
            "0  0.486666  0.708056 -0.023230  0.479708  0.637997 -0.060528  0.485184   \n",
            "1  0.486546  0.707184 -0.023601  0.480365  0.635598 -0.060622  0.485549   \n",
            "2  0.487676  0.706039 -0.023175  0.481160  0.634378 -0.060576  0.486423   \n",
            "\n",
            "       lm_7      lm_8      lm_9  ...   lm_1397   lm_1398   lm_1399   lm_1400  \\\n",
            "0  0.653610 -0.027651  0.472070  ... -0.024756  0.573169  0.471377 -0.016397   \n",
            "1  0.651710 -0.027683  0.472728  ... -0.024204  0.574725  0.469979 -0.015662   \n",
            "2  0.650673 -0.027512  0.473158  ... -0.024942  0.574632  0.469455 -0.016521   \n",
            "\n",
            "    lm_1401   lm_1402   lm_1403    label                  video_id  \\\n",
            "0  0.579994  0.464311 -0.017762  disgust  01-01-07-02-02-01-07.mp4   \n",
            "1  0.581541  0.462742 -0.017011  disgust  01-01-07-02-02-01-07.mp4   \n",
            "2  0.581477  0.462037 -0.017842  disgust  01-01-07-02-02-01-07.mp4   \n",
            "\n",
            "   frame_index  \n",
            "0            0  \n",
            "1            1  \n",
            "2            2  \n",
            "\n",
            "[3 rows x 1407 columns]\n"
          ]
        }
      ],
      "source": [
        "import pandas as pd\n",
        "\n",
        "df = pd.read_csv('/content/drive/My Drive/emotion_landmarks_with_videoid.csv')\n",
        "print(df.shape)\n",
        "print(df.head(3))\n"
      ]
    },
    {
      "cell_type": "code",
      "execution_count": null,
      "metadata": {
        "colab": {
          "base_uri": "https://localhost:8080/"
        },
        "id": "t1sHFD0lcST8",
        "outputId": "3af8027e-734d-4f9c-ea82-7feb8bbd86cb"
      },
      "outputs": [
        {
          "name": "stdout",
          "output_type": "stream",
          "text": [
            "معالجة المجموعة: train - المشاعر: ['disgust', 'fearful', 'natural', 'calm', 'angry', 'happy', 'sad', 'superised']\n",
            "معالجة المشاعر: disgust - عدد الفيديوهات: 20\n"
          ]
        },
        {
          "name": "stderr",
          "output_type": "stream",
          "text": [
            "Processing disgust videos in train: 100%|██████████| 20/20 [00:30<00:00,  1.51s/it]\n"
          ]
        },
        {
          "name": "stdout",
          "output_type": "stream",
          "text": [
            "معالجة المشاعر: fearful - عدد الفيديوهات: 20\n"
          ]
        },
        {
          "name": "stderr",
          "output_type": "stream",
          "text": [
            "Processing fearful videos in train: 100%|██████████| 20/20 [00:34<00:00,  1.74s/it]\n"
          ]
        },
        {
          "name": "stdout",
          "output_type": "stream",
          "text": [
            "معالجة المشاعر: natural - عدد الفيديوهات: 20\n"
          ]
        },
        {
          "name": "stderr",
          "output_type": "stream",
          "text": [
            "Processing natural videos in train: 100%|██████████| 20/20 [00:29<00:00,  1.48s/it]\n"
          ]
        },
        {
          "name": "stdout",
          "output_type": "stream",
          "text": [
            "معالجة المشاعر: calm - عدد الفيديوهات: 20\n"
          ]
        },
        {
          "name": "stderr",
          "output_type": "stream",
          "text": [
            "Processing calm videos in train: 100%|██████████| 20/20 [00:35<00:00,  1.76s/it]\n"
          ]
        },
        {
          "name": "stdout",
          "output_type": "stream",
          "text": [
            "معالجة المشاعر: angry - عدد الفيديوهات: 20\n"
          ]
        },
        {
          "name": "stderr",
          "output_type": "stream",
          "text": [
            "Processing angry videos in train: 100%|██████████| 20/20 [00:34<00:00,  1.71s/it]\n"
          ]
        },
        {
          "name": "stdout",
          "output_type": "stream",
          "text": [
            "معالجة المشاعر: happy - عدد الفيديوهات: 20\n"
          ]
        },
        {
          "name": "stderr",
          "output_type": "stream",
          "text": [
            "Processing happy videos in train: 100%|██████████| 20/20 [00:32<00:00,  1.62s/it]\n"
          ]
        },
        {
          "name": "stdout",
          "output_type": "stream",
          "text": [
            "معالجة المشاعر: sad - عدد الفيديوهات: 20\n"
          ]
        },
        {
          "name": "stderr",
          "output_type": "stream",
          "text": [
            "Processing sad videos in train: 100%|██████████| 20/20 [00:28<00:00,  1.41s/it]\n"
          ]
        },
        {
          "name": "stdout",
          "output_type": "stream",
          "text": [
            "معالجة المشاعر: superised - عدد الفيديوهات: 20\n"
          ]
        },
        {
          "name": "stderr",
          "output_type": "stream",
          "text": [
            "Processing superised videos in train: 100%|██████████| 20/20 [00:27<00:00,  1.37s/it]\n"
          ]
        },
        {
          "name": "stdout",
          "output_type": "stream",
          "text": [
            "معالجة المجموعة: test - المشاعر: ['superised', 'angry', 'sad', 'happy', 'calm', 'disgust', 'fearful', 'natural']\n",
            "معالجة المشاعر: superised - عدد الفيديوهات: 4\n"
          ]
        },
        {
          "name": "stderr",
          "output_type": "stream",
          "text": [
            "Processing superised videos in test: 100%|██████████| 4/4 [00:04<00:00,  1.21s/it]\n"
          ]
        },
        {
          "name": "stdout",
          "output_type": "stream",
          "text": [
            "معالجة المشاعر: angry - عدد الفيديوهات: 4\n"
          ]
        },
        {
          "name": "stderr",
          "output_type": "stream",
          "text": [
            "Processing angry videos in test: 100%|██████████| 4/4 [00:07<00:00,  1.93s/it]\n"
          ]
        },
        {
          "name": "stdout",
          "output_type": "stream",
          "text": [
            "معالجة المشاعر: sad - عدد الفيديوهات: 4\n"
          ]
        },
        {
          "name": "stderr",
          "output_type": "stream",
          "text": [
            "Processing sad videos in test: 100%|██████████| 4/4 [00:06<00:00,  1.54s/it]\n"
          ]
        },
        {
          "name": "stdout",
          "output_type": "stream",
          "text": [
            "معالجة المشاعر: happy - عدد الفيديوهات: 4\n"
          ]
        },
        {
          "name": "stderr",
          "output_type": "stream",
          "text": [
            "Processing happy videos in test: 100%|██████████| 4/4 [00:04<00:00,  1.19s/it]\n"
          ]
        },
        {
          "name": "stdout",
          "output_type": "stream",
          "text": [
            "معالجة المشاعر: calm - عدد الفيديوهات: 4\n"
          ]
        },
        {
          "name": "stderr",
          "output_type": "stream",
          "text": [
            "Processing calm videos in test: 100%|██████████| 4/4 [00:04<00:00,  1.23s/it]\n"
          ]
        },
        {
          "name": "stdout",
          "output_type": "stream",
          "text": [
            "معالجة المشاعر: disgust - عدد الفيديوهات: 4\n"
          ]
        },
        {
          "name": "stderr",
          "output_type": "stream",
          "text": [
            "Processing disgust videos in test: 100%|██████████| 4/4 [00:05<00:00,  1.43s/it]\n"
          ]
        },
        {
          "name": "stdout",
          "output_type": "stream",
          "text": [
            "معالجة المشاعر: fearful - عدد الفيديوهات: 4\n"
          ]
        },
        {
          "name": "stderr",
          "output_type": "stream",
          "text": [
            "Processing fearful videos in test: 100%|██████████| 4/4 [00:05<00:00,  1.43s/it]\n"
          ]
        },
        {
          "name": "stdout",
          "output_type": "stream",
          "text": [
            "معالجة المشاعر: natural - عدد الفيديوهات: 4\n"
          ]
        },
        {
          "name": "stderr",
          "output_type": "stream",
          "text": [
            "Processing natural videos in test: 100%|██████████| 4/4 [00:06<00:00,  1.55s/it]\n"
          ]
        },
        {
          "name": "stdout",
          "output_type": "stream",
          "text": [
            "عدد العينات المجمعة: 960\n",
            "تم حفظ بيانات landmarks والميزات في /content/drive/MyDrive/emotion_landmarks_features_20250605_210916.csv\n"
          ]
        }
      ],
      "source": [
        "import os\n",
        "import cv2\n",
        "import numpy as np\n",
        "import pandas as pd\n",
        "import mediapipe as mp\n",
        "from tqdm import tqdm\n",
        "import datetime\n",
        "\n",
        "DATA_DIR = '/content/drive/MyDrive/my_data'\n",
        "now = datetime.datetime.now().strftime(\"%Y%m%d_%H%M%S\")\n",
        "OUTPUT_CSV = f'/content/drive/MyDrive/emotion_landmarks_features_{now}.csv'\n",
        "N_FRAMES = 5\n",
        "IMG_SIZE = 128\n",
        "\n",
        "mp_face_mesh = mp.solutions.face_mesh\n",
        "\n",
        "def calc_eye_distance(landmarks):\n",
        "    left_eye = np.array([landmarks[33][0], landmarks[33][1]])\n",
        "    right_eye = np.array([landmarks[263][0], landmarks[263][1]])\n",
        "    return np.linalg.norm(left_eye - right_eye)\n",
        "\n",
        "def calc_face_width(landmarks):\n",
        "    left = landmarks[234][:2]\n",
        "    right = landmarks[454][:2]\n",
        "    return np.linalg.norm(left - right)\n",
        "\n",
        "def calc_nose_length(landmarks):\n",
        "    top = landmarks[1][:2]\n",
        "    bottom = landmarks[2][:2]\n",
        "    return np.linalg.norm(top - bottom)\n",
        "\n",
        "\n",
        "\n",
        "def calc_face_angle(landmarks):\n",
        "    left_eye = np.array([landmarks[33][0], landmarks[33][1]])\n",
        "    right_eye = np.array([landmarks[263][0], landmarks[263][1]])\n",
        "    nose = np.array([landmarks[1][0], landmarks[1][1]])\n",
        "    eye_center = (left_eye + right_eye) / 2\n",
        "    vec = nose - eye_center\n",
        "    angle = np.arctan2(vec[1], vec[0])\n",
        "    return angle\n",
        "\n",
        "data = []\n",
        "\n",
        "for split in ['train', 'test']:\n",
        "    split_path = os.path.join(DATA_DIR, split)\n",
        "    emotions = [d for d in os.listdir(split_path) if os.path.isdir(os.path.join(split_path, d))]\n",
        "    print(f\"معالجة المجموعة: {split} - المشاعر: {emotions}\")\n",
        "\n",
        "    for emotion in emotions:\n",
        "        emotion_path = os.path.join(split_path, emotion)\n",
        "        video_files = [f for f in os.listdir(emotion_path) if f.lower().endswith(('.mp4', '.avi', '.mov'))]\n",
        "        print(f\"معالجة المشاعر: {emotion} - عدد الفيديوهات: {len(video_files)}\")\n",
        "\n",
        "        for video_file in tqdm(video_files, desc=f'Processing {emotion} videos in {split}'):\n",
        "            video_path = os.path.join(emotion_path, video_file)\n",
        "            cap = cv2.VideoCapture(video_path)\n",
        "            if not cap.isOpened():\n",
        "                print(f\"خطأ في فتح الفيديو: {video_file}\")\n",
        "                continue\n",
        "\n",
        "            with mp_face_mesh.FaceMesh(static_image_mode=True, max_num_faces=1) as face_mesh:\n",
        "                frames_taken = 0\n",
        "                frame_count = 0\n",
        "\n",
        "                while frames_taken < N_FRAMES:\n",
        "                    ret, frame = cap.read()\n",
        "                    if not ret:\n",
        "                        break\n",
        "\n",
        "                    if frame_count % 1 == 0:\n",
        "                        frame_resized = cv2.resize(frame, (IMG_SIZE, IMG_SIZE))\n",
        "                        img_rgb = cv2.cvtColor(frame_resized, cv2.COLOR_BGR2RGB)\n",
        "                        results = face_mesh.process(img_rgb)\n",
        "\n",
        "                        if results.multi_face_landmarks:\n",
        "                            face_landmarks = results.multi_face_landmarks[0]\n",
        "                            coords = []\n",
        "                            for lm in face_landmarks.landmark:\n",
        "                                coords.append([lm.x, lm.y, lm.z])\n",
        "\n",
        "                            coords = np.array(coords)\n",
        "                            center = coords[:, :2].mean(axis=0)\n",
        "                            coords[:, :2] -= center\n",
        "                            scale = np.linalg.norm(coords[:, :2], axis=1).max()\n",
        "                            coords[:, :2] /= (scale + 1e-8)\n",
        "\n",
        "                            eye_dist = calc_eye_distance(coords)\n",
        "                            face_ang = calc_face_angle(coords)\n",
        "\n",
        "                            row = coords.flatten().tolist()\n",
        "                            row += [eye_dist, face_ang]\n",
        "                            row += [emotion, video_file, frames_taken]\n",
        "\n",
        "                            data.append(row)\n",
        "                            frames_taken += 1\n",
        "                    frame_count += 1\n",
        "\n",
        "            cap.release()\n",
        "\n",
        "print(f\"عدد العينات المجمعة: {len(data)}\")\n",
        "\n",
        "if len(data) == 0:\n",
        "    print(\"لم يتم جمع أي بيانات! تحقق من الفيديوهات ومساراتها وجودتها.\")\n",
        "else:\n",
        "    num_landmarks = 468\n",
        "    landmark_cols = []\n",
        "    for i in range(num_landmarks):\n",
        "        landmark_cols += [f'lm_{i}_x', f'lm_{i}_y', f'lm_{i}_z']\n",
        "\n",
        "    feature_cols = ['eye_distance', 'face_angle']\n",
        "    meta_cols = ['label', 'video_id', 'frame_index']\n",
        "\n",
        "    columns = landmark_cols + feature_cols + meta_cols\n",
        "\n",
        "    df = pd.DataFrame(data, columns=columns)\n",
        "    df.to_csv(OUTPUT_CSV, index=False)\n",
        "    print(f\"تم حفظ بيانات landmarks والميزات في {OUTPUT_CSV}\")\n"
      ]
    },
    {
      "cell_type": "code",
      "execution_count": null,
      "metadata": {
        "colab": {
          "base_uri": "https://localhost:8080/",
          "height": 403
        },
        "id": "noq2YW1Y9V8L",
        "outputId": "5936c38d-49a4-4d74-c569-9be60c7609e7"
      },
      "outputs": [
        {
          "name": "stdout",
          "output_type": "stream",
          "text": [
            "sample_video: 01-01-02-02-01-01-15.mp4\n",
            "sample_emotion: calm\n"
          ]
        },
        {
          "data": {
            "image/png": "[encoded data removed]",
            "text/plain": [
              "<Figure size 400x400 with 1 Axes>"
            ]
          },
          "metadata": {},
          "output_type": "display_data"
        }
      ],
      "source": [
        "import cv2\n",
        "import mediapipe as mp\n",
        "import matplotlib.pyplot as plt\n",
        "import random\n",
        "import os\n",
        "\n",
        "# اختر فيديو عشوائي ومشاعر عشوائية من بياناتك\n",
        "DATA_DIR = '/content/drive/MyDrive/my_data'\n",
        "IMG_SIZE = 128\n",
        "\n",
        "# عيّن اسم مجلد train والمشاعر واسم فيديو عشوائي\n",
        "split = 'train'\n",
        "split_path = os.path.join(DATA_DIR, split)\n",
        "emotions = [d for d in os.listdir(split_path) if os.path.isdir(os.path.join(split_path, d))]\n",
        "emotion = random.choice(emotions)\n",
        "emotion_path = os.path.join(split_path, emotion)\n",
        "video_files = [f for f in os.listdir(emotion_path) if f.lower().endswith(('.mp4', '.avi', '.mov'))]\n",
        "video_file = random.choice(video_files)\n",
        "video_path = os.path.join(emotion_path, video_file)\n",
        "\n",
        "print(\"sample_video:\", video_file)\n",
        "print(\"sample_emotion:\", emotion)\n",
        "\n",
        "cap = cv2.VideoCapture(video_path)\n",
        "ret, frame = cap.read()\n",
        "cap.release()\n",
        "if not ret:\n",
        "    print(\"تعذر قراءة الصورة من الفيديو.\")\n",
        "else:\n",
        "    # تصغير حجم الصورة للعرض فقط (اختياري)\n",
        "    frame_resized = cv2.resize(frame, (IMG_SIZE, IMG_SIZE))\n",
        "\n",
        "    # تطبيق mediapipe مباشرة على الصورة (الصورة بدون تطبيع!)\n",
        "    mp_face_mesh = mp.solutions.face_mesh\n",
        "    with mp_face_mesh.FaceMesh(static_image_mode=True, max_num_faces=1) as face_mesh:\n",
        "        img_rgb = cv2.cvtColor(frame_resized, cv2.COLOR_BGR2RGB)\n",
        "        results = face_mesh.process(img_rgb)\n",
        "\n",
        "        if results.multi_face_landmarks:\n",
        "            face_landmarks = results.multi_face_landmarks[0]\n",
        "            # رسم نقاط الوجه على الصورة\n",
        "            for lm in face_landmarks.landmark:\n",
        "                # إحداثيات نسبية (بين 0 و 1)، نضربها بحجم الصورة\n",
        "                x = int(lm.x * IMG_SIZE)\n",
        "                y = int(lm.y * IMG_SIZE)\n",
        "                cv2.circle(frame_resized, (x, y), 1, (0, 255, 0), -1)\n",
        "            plt.figure(figsize=(4, 4))\n",
        "            plt.title(f'Emotion: {emotion}')\n",
        "            plt.imshow(cv2.cvtColor(frame_resized, cv2.COLOR_BGR2RGB))\n",
        "            plt.axis('off')\n",
        "            plt.show()\n",
        "        else:\n",
        "            print(\"لم يتم العثور على معالم وجه في هذه الصورة.\")\n"
      ]
    },
    {
      "cell_type": "code",
      "execution_count": 4,
      "metadata": {
        "colab": {
          "base_uri": "https://localhost:8080/"
        },
        "id": "YnsZeUxRAFnJ",
        "outputId": "e97305f7-8604-41ba-e229-c861c4ee802a"
      },
      "outputs": [
        {
          "output_type": "stream",
          "name": "stdout",
          "text": [
            "Reading package lists... Done\n",
            "Building dependency tree... Done\n",
            "Reading state information... Done\n",
            "ffmpeg is already the newest version (7:4.4.2-0ubuntu0.22.04.1).\n",
            "0 upgraded, 0 newly installed, 0 to remove and 35 not upgraded.\n"
          ]
        }
      ],
      "source": [
        "!apt-get -y install ffmpeg\n"
      ]
    },
    {
      "cell_type": "code",
      "execution_count": 5,
      "metadata": {
        "colab": {
          "base_uri": "https://localhost:8080/"
        },
        "id": "_WQzA3hfAeqM",
        "outputId": "06d23706-ee6c-4005-fd3a-9e7b9414b611"
      },
      "outputs": [
        {
          "output_type": "stream",
          "name": "stdout",
          "text": [
            "✅ Saved feat_mean.npy & feat_std.npy\n"
          ]
        }
      ],
      "source": [
        "# --------- حساب الإحصاءات العالمية وحفظها ---------\n",
        "import numpy as np, pandas as pd\n",
        "\n",
        "CSV_PATH = '/content/drive/My Drive/emotion_landmarks_with_videoid.csv'\n",
        "N_FRAMES = 5                                                     # نفس قيمة التدريب\n",
        "lm_cols  = [c for c in pd.read_csv(CSV_PATH, nrows=1).columns if c.startswith('lm_')]\n",
        "\n",
        "df = pd.read_csv(CSV_PATH)[lm_cols].astype('float32')\n",
        "feat_mean = df.values.mean(axis=0)\n",
        "feat_std  = df.values.std(axis=0)\n",
        "np.save('/content/feat_mean.npy', feat_mean)\n",
        "np.save('/content/feat_std.npy',  feat_std)\n",
        "print('✅ Saved feat_mean.npy & feat_std.npy')\n"
      ]
    },
    {
      "cell_type": "code",
      "execution_count": null,
      "metadata": {
        "colab": {
          "base_uri": "https://localhost:8080/"
        },
        "id": "425NdW_mAHGS",
        "outputId": "2f008523-0690-4442-d697-bad0cc0ee2ca"
      },
      "outputs": [
        {
          "output_type": "stream",
          "name": "stderr",
          "text": [
            "WARNING:absl:Compiled the loaded model, but the compiled metrics have yet to be built. `model.compile_metrics` will be empty until you train or evaluate the model.\n"
          ]
        },
        {
          "output_type": "stream",
          "name": "stdout",
          "text": [
            "✅ Annotated video saved to /content/annotated_video.mp4\n",
            "🔎 Majority prediction for the clip: disgust\n"
          ]
        }
      ],
      "source": [
        "# =========================  خلية اختبار فيديو خارجي  =========================\n",
        "VIDEO_PATH   = '/content/drive/MyDrive/surprised_bsher.mp4'       # ← مسار الفيديو الذي تريد اختباره\n",
        "MODEL_PATH   = '/content/drive/My Drive/my_data/acc99.h5'             # ← الموديل الذي حفظته\n",
        "MEAN_PATH    = '/content/feat_mean.npy'        # ← ملف المتوسط المحفوظ أثناء التدريب\n",
        "STD_PATH     = '/content/feat_std.npy'         # ← ملف الانحراف المعياري\n",
        "OUTPUT_PATH  = '/content/annotated_video.mp4'  # ← اسم ملف الإخراج\n",
        "N_FRAMES     = 10                              # يجب أن يطابق قيمة التدريب\n",
        "\n",
        "# --------------------------------------------------------------------------- #\n",
        "import os, subprocess, cv2, numpy as np, mediapipe as mp, tensorflow as tf\n",
        "from tensorflow.keras.models import load_model\n",
        "\n",
        "# 😎 تحميل الموديل والإحصاءات\n",
        "model      = load_model(MODEL_PATH)\n",
        "feat_mean  = np.load(MEAN_PATH)\n",
        "feat_std   = np.load(STD_PATH)\n",
        "le_classes = np.array(['angry','calm','disgust','fearful',\n",
        "                       'happy','natural','sad','superised'])\n",
        "\n",
        "\n",
        "# 🎥 إعداد قراءة الفيديو والكتابة\n",
        "cap = cv2.VideoCapture(VIDEO_PATH)\n",
        "fps = cap.get(cv2.CAP_PROP_FPS) or 25\n",
        "w,  h  = int(cap.get(cv2.CAP_PROP_FRAME_WIDTH)), int(cap.get(cv2.CAP_PROP_FRAME_HEIGHT))\n",
        "fourcc = cv2.VideoWriter_fourcc(*'mp4v')\n",
        "tmp_no_audio = 'tmp_no_audio.mp4'\n",
        "writer = cv2.VideoWriter(tmp_no_audio, fourcc, fps, (w, h))\n",
        "\n",
        "# 🖐 تهيئة MediaPipe FaceMesh\n",
        "mp_face = mp.solutions.face_mesh.FaceMesh(static_image_mode=False, refine_landmarks=False)\n",
        "\n",
        "seq_buffer, preds = [], []\n",
        "while True:\n",
        "    ret, frame = cap.read()\n",
        "    if not ret: break\n",
        "\n",
        "    rgb = cv2.cvtColor(frame, cv2.COLOR_BGR2RGB)\n",
        "    res = mp_face.process(rgb)\n",
        "\n",
        "    if res.multi_face_landmarks:\n",
        "        lm = res.multi_face_landmarks[0]\n",
        "        # ✨ استخدم أول 468 نقطة (468×3 = 1404) مثل التدريب\n",
        "        coords = np.array([[p.x, p.y, p.z] for p in lm.landmark[:468]], dtype=np.float32).flatten()\n",
        "        coords = (coords - feat_mean) / (feat_std + 1e-6)        # نفس التطبيع\n",
        "        seq_buffer.append(coords)\n",
        "\n",
        "        if len(seq_buffer) == N_FRAMES:\n",
        "            window = np.stack(seq_buffer, axis=0)[None, ...]     # (1, N_FRAMES, 1404)\n",
        "            pred_idx = model.predict(window, verbose=0).argmax()\n",
        "            label    = le_classes[pred_idx]\n",
        "            preds.append(pred_idx)\n",
        "            seq_buffer.pop(0)                                    # انزِل للإطارات التالية\n",
        "\n",
        "            cv2.putText(frame, label, (30, 60), cv2.FONT_HERSHEY_SIMPLEX,\n",
        "                        2, (0, 255, 0), 4, cv2.LINE_AA)\n",
        "\n",
        "    writer.write(frame)\n",
        "\n",
        "cap.release(); writer.release(); mp_face.close()\n",
        "\n",
        "# 🔊 دمج الصوت الأصلي مع الفيديو المعلَّق\n",
        "subprocess.run([\n",
        "    'ffmpeg', '-y',\n",
        "    '-i', tmp_no_audio, '-i', VIDEO_PATH,\n",
        "    '-c', 'copy', '-map', '0:v:0', '-map', '1:a:0', OUTPUT_PATH\n",
        "], stdout=subprocess.DEVNULL, stderr=subprocess.DEVNULL)\n",
        "os.remove(tmp_no_audio)\n",
        "\n",
        "print(f'✅ Annotated video saved to {OUTPUT_PATH}')\n",
        "if preds:\n",
        "    majority = le_classes[np.bincount(preds).argmax()]\n",
        "    print(f'🔎 Majority prediction for the clip: {majority}')\n",
        "# ============================================================================ #\n"
      ]
    },
    {
      "cell_type": "markdown",
      "source": [
        "جدييييييييييد\n"
      ],
      "metadata": {
        "id": "k-ppYp8paALE"
      }
    },
    {
      "cell_type": "code",
      "source": [],
      "metadata": {
        "id": "wGbqHy1VaBio"
      },
      "execution_count": null,
      "outputs": []
    },
    {
      "cell_type": "code",
      "execution_count": 10,
      "metadata": {
        "colab": {
          "base_uri": "https://localhost:8080/",
          "height": 1000
        },
        "outputId": "4dea34ef-6a21-4189-cb92-fcbc0128450c",
        "id": "DfB68csraB_y"
      },
      "outputs": [
        {
          "output_type": "stream",
          "name": "stdout",
          "text": [
            "✔️ X_seq (4992, 5, 1404), y_enc (4992,), classes 8\n",
            "Class weights: {0: 1.0, 1: 1.0, 2: 1.0, 3: 1.0, 4: 1.0, 5: 1.0, 6: 1.0, 7: 1.0}\n",
            "Train (3496, 5, 1404), Val (747, 5, 1404), Test (749, 5, 1404)\n"
          ]
        },
        {
          "output_type": "stream",
          "name": "stderr",
          "text": [
            "/usr/local/lib/python3.11/dist-packages/keras/src/layers/core/wrapper.py:27: UserWarning: Do not pass an `input_shape`/`input_dim` argument to a layer. When using Sequential models, prefer using an `Input(shape)` object as the first layer in the model instead.\n",
            "  super().__init__(**kwargs)\n"
          ]
        },
        {
          "output_type": "display_data",
          "data": {
            "text/plain": [
              "\u001b[1mModel: \"sequential_4\"\u001b[0m\n"
            ],
            "text/html": [
              "<pre style=\"white-space:pre;overflow-x:auto;line-height:normal;font-family:Menlo,'DejaVu Sans Mono',consolas,'Courier New',monospace\"><span style=\"font-weight: bold\">Model: \"sequential_4\"</span>\n",
              "</pre>\n"
            ]
          },
          "metadata": {}
        },
        {
          "output_type": "display_data",
          "data": {
            "text/plain": [
              "┏━━━━━━━━━━━━━━━━━━━━━━━━━━━━━━━━━┳━━━━━━━━━━━━━━━━━━━━━━━━┳━━━━━━━━━━━━━━━┓\n",
              "┃\u001b[1m \u001b[0m\u001b[1mLayer (type)                   \u001b[0m\u001b[1m \u001b[0m┃\u001b[1m \u001b[0m\u001b[1mOutput Shape          \u001b[0m\u001b[1m \u001b[0m┃\u001b[1m \u001b[0m\u001b[1m      Param #\u001b[0m\u001b[1m \u001b[0m┃\n",
              "┡━━━━━━━━━━━━━━━━━━━━━━━━━━━━━━━━━╇━━━━━━━━━━━━━━━━━━━━━━━━╇━━━━━━━━━━━━━━━┩\n",
              "│ time_distributed_4              │ (\u001b[38;5;45mNone\u001b[0m, \u001b[38;5;34m5\u001b[0m, \u001b[38;5;34m128\u001b[0m)         │       \u001b[38;5;34m179,840\u001b[0m │\n",
              "│ (\u001b[38;5;33mTimeDistributed\u001b[0m)               │                        │               │\n",
              "├─────────────────────────────────┼────────────────────────┼───────────────┤\n",
              "│ lstm_4 (\u001b[38;5;33mLSTM\u001b[0m)                   │ (\u001b[38;5;45mNone\u001b[0m, \u001b[38;5;34m128\u001b[0m)            │       \u001b[38;5;34m131,584\u001b[0m │\n",
              "├─────────────────────────────────┼────────────────────────┼───────────────┤\n",
              "│ batch_normalization_4           │ (\u001b[38;5;45mNone\u001b[0m, \u001b[38;5;34m128\u001b[0m)            │           \u001b[38;5;34m512\u001b[0m │\n",
              "│ (\u001b[38;5;33mBatchNormalization\u001b[0m)            │                        │               │\n",
              "├─────────────────────────────────┼────────────────────────┼───────────────┤\n",
              "│ dropout_8 (\u001b[38;5;33mDropout\u001b[0m)             │ (\u001b[38;5;45mNone\u001b[0m, \u001b[38;5;34m128\u001b[0m)            │             \u001b[38;5;34m0\u001b[0m │\n",
              "├─────────────────────────────────┼────────────────────────┼───────────────┤\n",
              "│ dense_13 (\u001b[38;5;33mDense\u001b[0m)                │ (\u001b[38;5;45mNone\u001b[0m, \u001b[38;5;34m64\u001b[0m)             │         \u001b[38;5;34m8,256\u001b[0m │\n",
              "├─────────────────────────────────┼────────────────────────┼───────────────┤\n",
              "│ dropout_9 (\u001b[38;5;33mDropout\u001b[0m)             │ (\u001b[38;5;45mNone\u001b[0m, \u001b[38;5;34m64\u001b[0m)             │             \u001b[38;5;34m0\u001b[0m │\n",
              "├─────────────────────────────────┼────────────────────────┼───────────────┤\n",
              "│ dense_14 (\u001b[38;5;33mDense\u001b[0m)                │ (\u001b[38;5;45mNone\u001b[0m, \u001b[38;5;34m8\u001b[0m)              │           \u001b[38;5;34m520\u001b[0m │\n",
              "└─────────────────────────────────┴────────────────────────┴───────────────┘\n"
            ],
            "text/html": [
              "<pre style=\"white-space:pre;overflow-x:auto;line-height:normal;font-family:Menlo,'DejaVu Sans Mono',consolas,'Courier New',monospace\">┏━━━━━━━━━━━━━━━━━━━━━━━━━━━━━━━━━┳━━━━━━━━━━━━━━━━━━━━━━━━┳━━━━━━━━━━━━━━━┓\n",
              "┃<span style=\"font-weight: bold\"> Layer (type)                    </span>┃<span style=\"font-weight: bold\"> Output Shape           </span>┃<span style=\"font-weight: bold\">       Param # </span>┃\n",
              "┡━━━━━━━━━━━━━━━━━━━━━━━━━━━━━━━━━╇━━━━━━━━━━━━━━━━━━━━━━━━╇━━━━━━━━━━━━━━━┩\n",
              "│ time_distributed_4              │ (<span style=\"color: #00d7ff; text-decoration-color: #00d7ff\">None</span>, <span style=\"color: #00af00; text-decoration-color: #00af00\">5</span>, <span style=\"color: #00af00; text-decoration-color: #00af00\">128</span>)         │       <span style=\"color: #00af00; text-decoration-color: #00af00\">179,840</span> │\n",
              "│ (<span style=\"color: #0087ff; text-decoration-color: #0087ff\">TimeDistributed</span>)               │                        │               │\n",
              "├─────────────────────────────────┼────────────────────────┼───────────────┤\n",
              "│ lstm_4 (<span style=\"color: #0087ff; text-decoration-color: #0087ff\">LSTM</span>)                   │ (<span style=\"color: #00d7ff; text-decoration-color: #00d7ff\">None</span>, <span style=\"color: #00af00; text-decoration-color: #00af00\">128</span>)            │       <span style=\"color: #00af00; text-decoration-color: #00af00\">131,584</span> │\n",
              "├─────────────────────────────────┼────────────────────────┼───────────────┤\n",
              "│ batch_normalization_4           │ (<span style=\"color: #00d7ff; text-decoration-color: #00d7ff\">None</span>, <span style=\"color: #00af00; text-decoration-color: #00af00\">128</span>)            │           <span style=\"color: #00af00; text-decoration-color: #00af00\">512</span> │\n",
              "│ (<span style=\"color: #0087ff; text-decoration-color: #0087ff\">BatchNormalization</span>)            │                        │               │\n",
              "├─────────────────────────────────┼────────────────────────┼───────────────┤\n",
              "│ dropout_8 (<span style=\"color: #0087ff; text-decoration-color: #0087ff\">Dropout</span>)             │ (<span style=\"color: #00d7ff; text-decoration-color: #00d7ff\">None</span>, <span style=\"color: #00af00; text-decoration-color: #00af00\">128</span>)            │             <span style=\"color: #00af00; text-decoration-color: #00af00\">0</span> │\n",
              "├─────────────────────────────────┼────────────────────────┼───────────────┤\n",
              "│ dense_13 (<span style=\"color: #0087ff; text-decoration-color: #0087ff\">Dense</span>)                │ (<span style=\"color: #00d7ff; text-decoration-color: #00d7ff\">None</span>, <span style=\"color: #00af00; text-decoration-color: #00af00\">64</span>)             │         <span style=\"color: #00af00; text-decoration-color: #00af00\">8,256</span> │\n",
              "├─────────────────────────────────┼────────────────────────┼───────────────┤\n",
              "│ dropout_9 (<span style=\"color: #0087ff; text-decoration-color: #0087ff\">Dropout</span>)             │ (<span style=\"color: #00d7ff; text-decoration-color: #00d7ff\">None</span>, <span style=\"color: #00af00; text-decoration-color: #00af00\">64</span>)             │             <span style=\"color: #00af00; text-decoration-color: #00af00\">0</span> │\n",
              "├─────────────────────────────────┼────────────────────────┼───────────────┤\n",
              "│ dense_14 (<span style=\"color: #0087ff; text-decoration-color: #0087ff\">Dense</span>)                │ (<span style=\"color: #00d7ff; text-decoration-color: #00d7ff\">None</span>, <span style=\"color: #00af00; text-decoration-color: #00af00\">8</span>)              │           <span style=\"color: #00af00; text-decoration-color: #00af00\">520</span> │\n",
              "└─────────────────────────────────┴────────────────────────┴───────────────┘\n",
              "</pre>\n"
            ]
          },
          "metadata": {}
        },
        {
          "output_type": "display_data",
          "data": {
            "text/plain": [
              "\u001b[1m Total params: \u001b[0m\u001b[38;5;34m320,712\u001b[0m (1.22 MB)\n"
            ],
            "text/html": [
              "<pre style=\"white-space:pre;overflow-x:auto;line-height:normal;font-family:Menlo,'DejaVu Sans Mono',consolas,'Courier New',monospace\"><span style=\"font-weight: bold\"> Total params: </span><span style=\"color: #00af00; text-decoration-color: #00af00\">320,712</span> (1.22 MB)\n",
              "</pre>\n"
            ]
          },
          "metadata": {}
        },
        {
          "output_type": "display_data",
          "data": {
            "text/plain": [
              "\u001b[1m Trainable params: \u001b[0m\u001b[38;5;34m320,456\u001b[0m (1.22 MB)\n"
            ],
            "text/html": [
              "<pre style=\"white-space:pre;overflow-x:auto;line-height:normal;font-family:Menlo,'DejaVu Sans Mono',consolas,'Courier New',monospace\"><span style=\"font-weight: bold\"> Trainable params: </span><span style=\"color: #00af00; text-decoration-color: #00af00\">320,456</span> (1.22 MB)\n",
              "</pre>\n"
            ]
          },
          "metadata": {}
        },
        {
          "output_type": "display_data",
          "data": {
            "text/plain": [
              "\u001b[1m Non-trainable params: \u001b[0m\u001b[38;5;34m256\u001b[0m (1.00 KB)\n"
            ],
            "text/html": [
              "<pre style=\"white-space:pre;overflow-x:auto;line-height:normal;font-family:Menlo,'DejaVu Sans Mono',consolas,'Courier New',monospace\"><span style=\"font-weight: bold\"> Non-trainable params: </span><span style=\"color: #00af00; text-decoration-color: #00af00\">256</span> (1.00 KB)\n",
              "</pre>\n"
            ]
          },
          "metadata": {}
        },
        {
          "output_type": "stream",
          "name": "stdout",
          "text": [
            "Epoch 1/60\n",
            "110/110 - 6s - 58ms/step - accuracy: 0.1582 - loss: 2.7523 - val_accuracy: 0.2021 - val_loss: 2.0154 - learning_rate: 3.0000e-04\n",
            "Epoch 2/60\n",
            "110/110 - 2s - 16ms/step - accuracy: 0.1742 - loss: 2.4711 - val_accuracy: 0.2610 - val_loss: 1.9423 - learning_rate: 3.0000e-04\n",
            "Epoch 3/60\n",
            "110/110 - 2s - 16ms/step - accuracy: 0.2142 - loss: 2.2600 - val_accuracy: 0.3186 - val_loss: 1.8369 - learning_rate: 3.0000e-04\n",
            "Epoch 4/60\n",
            "110/110 - 3s - 24ms/step - accuracy: 0.2354 - loss: 2.1424 - val_accuracy: 0.3360 - val_loss: 1.7922 - learning_rate: 3.0000e-04\n",
            "Epoch 5/60\n",
            "110/110 - 2s - 21ms/step - accuracy: 0.2483 - loss: 2.0808 - val_accuracy: 0.3815 - val_loss: 1.7064 - learning_rate: 3.0000e-04\n",
            "Epoch 6/60\n",
            "110/110 - 3s - 26ms/step - accuracy: 0.2858 - loss: 1.9635 - val_accuracy: 0.3976 - val_loss: 1.6844 - learning_rate: 3.0000e-04\n",
            "Epoch 7/60\n",
            "110/110 - 4s - 37ms/step - accuracy: 0.3018 - loss: 1.9132 - val_accuracy: 0.4337 - val_loss: 1.6186 - learning_rate: 3.0000e-04\n",
            "Epoch 8/60\n",
            "110/110 - 3s - 25ms/step - accuracy: 0.3249 - loss: 1.8362 - val_accuracy: 0.4364 - val_loss: 1.5546 - learning_rate: 3.0000e-04\n",
            "Epoch 9/60\n",
            "110/110 - 2s - 16ms/step - accuracy: 0.3538 - loss: 1.7726 - val_accuracy: 0.4431 - val_loss: 1.5544 - learning_rate: 3.0000e-04\n",
            "Epoch 10/60\n",
            "110/110 - 2s - 22ms/step - accuracy: 0.3601 - loss: 1.7132 - val_accuracy: 0.4471 - val_loss: 1.4886 - learning_rate: 3.0000e-04\n",
            "Epoch 11/60\n",
            "110/110 - 3s - 24ms/step - accuracy: 0.3907 - loss: 1.6357 - val_accuracy: 0.4779 - val_loss: 1.3861 - learning_rate: 3.0000e-04\n",
            "Epoch 12/60\n",
            "110/110 - 2s - 17ms/step - accuracy: 0.4296 - loss: 1.5551 - val_accuracy: 0.5368 - val_loss: 1.3380 - learning_rate: 3.0000e-04\n",
            "Epoch 13/60\n",
            "110/110 - 2s - 16ms/step - accuracy: 0.4622 - loss: 1.4742 - val_accuracy: 0.5716 - val_loss: 1.2849 - learning_rate: 3.0000e-04\n",
            "Epoch 14/60\n",
            "110/110 - 2s - 16ms/step - accuracy: 0.4868 - loss: 1.4411 - val_accuracy: 0.5823 - val_loss: 1.2188 - learning_rate: 3.0000e-04\n",
            "Epoch 15/60\n",
            "110/110 - 3s - 23ms/step - accuracy: 0.5157 - loss: 1.3347 - val_accuracy: 0.5810 - val_loss: 1.1959 - learning_rate: 3.0000e-04\n",
            "Epoch 16/60\n",
            "110/110 - 2s - 19ms/step - accuracy: 0.5340 - loss: 1.2957 - val_accuracy: 0.6386 - val_loss: 1.0787 - learning_rate: 3.0000e-04\n",
            "Epoch 17/60\n",
            "110/110 - 3s - 29ms/step - accuracy: 0.5701 - loss: 1.1940 - val_accuracy: 0.6613 - val_loss: 1.0106 - learning_rate: 3.0000e-04\n",
            "Epoch 18/60\n",
            "110/110 - 4s - 38ms/step - accuracy: 0.5993 - loss: 1.1336 - val_accuracy: 0.6452 - val_loss: 1.0412 - learning_rate: 3.0000e-04\n",
            "Epoch 19/60\n",
            "110/110 - 3s - 23ms/step - accuracy: 0.6150 - loss: 1.0785 - val_accuracy: 0.6975 - val_loss: 0.8952 - learning_rate: 3.0000e-04\n",
            "Epoch 20/60\n",
            "110/110 - 3s - 23ms/step - accuracy: 0.6453 - loss: 1.0095 - val_accuracy: 0.7363 - val_loss: 0.8354 - learning_rate: 3.0000e-04\n",
            "Epoch 21/60\n",
            "110/110 - 3s - 27ms/step - accuracy: 0.6713 - loss: 0.9461 - val_accuracy: 0.7497 - val_loss: 0.7910 - learning_rate: 3.0000e-04\n",
            "Epoch 22/60\n",
            "110/110 - 4s - 35ms/step - accuracy: 0.6939 - loss: 0.8810 - val_accuracy: 0.7001 - val_loss: 0.8383 - learning_rate: 3.0000e-04\n",
            "Epoch 23/60\n",
            "110/110 - 3s - 24ms/step - accuracy: 0.7128 - loss: 0.8209 - val_accuracy: 0.7778 - val_loss: 0.6951 - learning_rate: 3.0000e-04\n",
            "Epoch 24/60\n",
            "110/110 - 3s - 23ms/step - accuracy: 0.7317 - loss: 0.7705 - val_accuracy: 0.7938 - val_loss: 0.6060 - learning_rate: 3.0000e-04\n",
            "Epoch 25/60\n",
            "110/110 - 2s - 18ms/step - accuracy: 0.7560 - loss: 0.7163 - val_accuracy: 0.7738 - val_loss: 0.6445 - learning_rate: 3.0000e-04\n",
            "Epoch 26/60\n",
            "110/110 - 3s - 29ms/step - accuracy: 0.7574 - loss: 0.7016 - val_accuracy: 0.8193 - val_loss: 0.5586 - learning_rate: 3.0000e-04\n",
            "Epoch 27/60\n",
            "110/110 - 4s - 38ms/step - accuracy: 0.7838 - loss: 0.6090 - val_accuracy: 0.7992 - val_loss: 0.5397 - learning_rate: 3.0000e-04\n",
            "Epoch 28/60\n",
            "110/110 - 2s - 16ms/step - accuracy: 0.7866 - loss: 0.6130 - val_accuracy: 0.8260 - val_loss: 0.5056 - learning_rate: 3.0000e-04\n",
            "Epoch 29/60\n",
            "110/110 - 2s - 16ms/step - accuracy: 0.8164 - loss: 0.5363 - val_accuracy: 0.8501 - val_loss: 0.4790 - learning_rate: 3.0000e-04\n",
            "Epoch 30/60\n",
            "110/110 - 2s - 16ms/step - accuracy: 0.8124 - loss: 0.5502 - val_accuracy: 0.8487 - val_loss: 0.4648 - learning_rate: 3.0000e-04\n",
            "Epoch 31/60\n",
            "110/110 - 3s - 28ms/step - accuracy: 0.8201 - loss: 0.5093 - val_accuracy: 0.8661 - val_loss: 0.4380 - learning_rate: 3.0000e-04\n",
            "Epoch 32/60\n",
            "110/110 - 4s - 34ms/step - accuracy: 0.8395 - loss: 0.4537 - val_accuracy: 0.8568 - val_loss: 0.4220 - learning_rate: 3.0000e-04\n",
            "Epoch 33/60\n",
            "110/110 - 3s - 23ms/step - accuracy: 0.8555 - loss: 0.4261 - val_accuracy: 0.8782 - val_loss: 0.3836 - learning_rate: 3.0000e-04\n",
            "Epoch 34/60\n",
            "110/110 - 2s - 16ms/step - accuracy: 0.8696 - loss: 0.3786 - val_accuracy: 0.8755 - val_loss: 0.3750 - learning_rate: 3.0000e-04\n",
            "Epoch 35/60\n",
            "110/110 - 3s - 25ms/step - accuracy: 0.8790 - loss: 0.3679 - val_accuracy: 0.9170 - val_loss: 0.2744 - learning_rate: 3.0000e-04\n",
            "Epoch 36/60\n",
            "110/110 - 3s - 29ms/step - accuracy: 0.8707 - loss: 0.3925 - val_accuracy: 0.9036 - val_loss: 0.2966 - learning_rate: 3.0000e-04\n",
            "Epoch 37/60\n",
            "110/110 - 2s - 16ms/step - accuracy: 0.8882 - loss: 0.3347 - val_accuracy: 0.9143 - val_loss: 0.2892 - learning_rate: 3.0000e-04\n",
            "Epoch 38/60\n",
            "110/110 - 3s - 23ms/step - accuracy: 0.8999 - loss: 0.3045 - val_accuracy: 0.9384 - val_loss: 0.2485 - learning_rate: 3.0000e-04\n",
            "Epoch 39/60\n",
            "110/110 - 2s - 16ms/step - accuracy: 0.9096 - loss: 0.2782 - val_accuracy: 0.9170 - val_loss: 0.2623 - learning_rate: 3.0000e-04\n",
            "Epoch 40/60\n",
            "110/110 - 2s - 16ms/step - accuracy: 0.9062 - loss: 0.2878 - val_accuracy: 0.9264 - val_loss: 0.2558 - learning_rate: 3.0000e-04\n",
            "Epoch 41/60\n",
            "110/110 - 3s - 30ms/step - accuracy: 0.9239 - loss: 0.2343 - val_accuracy: 0.9130 - val_loss: 0.2775 - learning_rate: 3.0000e-04\n",
            "Epoch 42/60\n",
            "110/110 - 3s - 24ms/step - accuracy: 0.9128 - loss: 0.2707 - val_accuracy: 0.8996 - val_loss: 0.3237 - learning_rate: 3.0000e-04\n",
            "Epoch 43/60\n",
            "110/110 - 2s - 16ms/step - accuracy: 0.9293 - loss: 0.2132 - val_accuracy: 0.9290 - val_loss: 0.2291 - learning_rate: 3.0000e-04\n",
            "Epoch 44/60\n",
            "110/110 - 3s - 23ms/step - accuracy: 0.9188 - loss: 0.2399 - val_accuracy: 0.9371 - val_loss: 0.2110 - learning_rate: 3.0000e-04\n",
            "Epoch 45/60\n",
            "110/110 - 3s - 23ms/step - accuracy: 0.9268 - loss: 0.2083 - val_accuracy: 0.9357 - val_loss: 0.2490 - learning_rate: 3.0000e-04\n",
            "Epoch 46/60\n",
            "110/110 - 3s - 24ms/step - accuracy: 0.9253 - loss: 0.2288 - val_accuracy: 0.9183 - val_loss: 0.2951 - learning_rate: 3.0000e-04\n",
            "Epoch 47/60\n",
            "110/110 - 3s - 30ms/step - accuracy: 0.9414 - loss: 0.1805 - val_accuracy: 0.9465 - val_loss: 0.1988 - learning_rate: 3.0000e-04\n",
            "Epoch 48/60\n",
            "110/110 - 2s - 16ms/step - accuracy: 0.9422 - loss: 0.1756 - val_accuracy: 0.9357 - val_loss: 0.2238 - learning_rate: 3.0000e-04\n",
            "Epoch 49/60\n",
            "110/110 - 2s - 16ms/step - accuracy: 0.9491 - loss: 0.1536 - val_accuracy: 0.9411 - val_loss: 0.2155 - learning_rate: 3.0000e-04\n",
            "Epoch 50/60\n",
            "110/110 - 2s - 16ms/step - accuracy: 0.9339 - loss: 0.2061 - val_accuracy: 0.9224 - val_loss: 0.2287 - learning_rate: 3.0000e-04\n",
            "Epoch 51/60\n",
            "110/110 - 2s - 16ms/step - accuracy: 0.9436 - loss: 0.1676 - val_accuracy: 0.9317 - val_loss: 0.2524 - learning_rate: 3.0000e-04\n",
            "Epoch 52/60\n",
            "110/110 - 2s - 16ms/step - accuracy: 0.9382 - loss: 0.1778 - val_accuracy: 0.9572 - val_loss: 0.1675 - learning_rate: 3.0000e-04\n",
            "Epoch 53/60\n",
            "110/110 - 2s - 22ms/step - accuracy: 0.9385 - loss: 0.2009 - val_accuracy: 0.9424 - val_loss: 0.2087 - learning_rate: 3.0000e-04\n",
            "Epoch 54/60\n",
            "110/110 - 3s - 23ms/step - accuracy: 0.9585 - loss: 0.1292 - val_accuracy: 0.9438 - val_loss: 0.2046 - learning_rate: 3.0000e-04\n",
            "Epoch 55/60\n",
            "110/110 - 2s - 16ms/step - accuracy: 0.9680 - loss: 0.1031 - val_accuracy: 0.9438 - val_loss: 0.1995 - learning_rate: 3.0000e-04\n",
            "Epoch 56/60\n",
            "110/110 - 2s - 16ms/step - accuracy: 0.9674 - loss: 0.1080 - val_accuracy: 0.9438 - val_loss: 0.1737 - learning_rate: 3.0000e-04\n",
            "Epoch 57/60\n",
            "110/110 - 2s - 16ms/step - accuracy: 0.9677 - loss: 0.0975 - val_accuracy: 0.9505 - val_loss: 0.1859 - learning_rate: 3.0000e-04\n",
            "Epoch 58/60\n",
            "110/110 - 3s - 23ms/step - accuracy: 0.9559 - loss: 0.1362 - val_accuracy: 0.9371 - val_loss: 0.2058 - learning_rate: 3.0000e-04\n",
            "Epoch 59/60\n",
            "110/110 - 3s - 31ms/step - accuracy: 0.9708 - loss: 0.0830 - val_accuracy: 0.9732 - val_loss: 0.1095 - learning_rate: 1.5000e-04\n",
            "Epoch 60/60\n",
            "110/110 - 2s - 22ms/step - accuracy: 0.9803 - loss: 0.0642 - val_accuracy: 0.9692 - val_loss: 0.1115 - learning_rate: 1.5000e-04\n",
            "\n",
            "Classification Report (Test):\n",
            "\n",
            "              precision    recall  f1-score   support\n",
            "\n",
            "       angry     0.9681    0.9785    0.9733        93\n",
            "        calm     0.9892    0.9892    0.9892        93\n",
            "     disgust     1.0000    0.9681    0.9838        94\n",
            "     fearful     0.9792    1.0000    0.9895        94\n",
            "       happy     0.9789    0.9894    0.9841        94\n",
            "     natural     0.9783    0.9677    0.9730        93\n",
            "         sad     0.9892    0.9787    0.9840        94\n",
            "   superised     0.9895    1.0000    0.9947        94\n",
            "\n",
            "    accuracy                         0.9840       749\n",
            "   macro avg     0.9841    0.9840    0.9839       749\n",
            "weighted avg     0.9841    0.9840    0.9840       749\n",
            "\n"
          ]
        },
        {
          "output_type": "display_data",
          "data": {
            "text/plain": [
              "<Figure size 600x600 with 0 Axes>"
            ]
          },
          "metadata": {}
        },
        {
          "output_type": "display_data",
          "data": {
            "text/plain": [
              "<Figure size 640x480 with 2 Axes>"
            ],
            "image/png": "[encoded data removed]"
          },
          "metadata": {}
        }
      ],
      "source": [
        "import os, numpy as np, pandas as pd, gc\n",
        "\n",
        "CSV_PATH = '/content/drive/My Drive/emotion_landmarks_with_videoid.csv'\n",
        "LABEL_COL = 'label'\n",
        "VID_COL   = 'video_id'\n",
        "FRAME_COL = 'frame_index'\n",
        "N_FRAMES  = 5\n",
        "\n",
        "if not os.path.exists(CSV_PATH):\n",
        "    raise FileNotFoundError(f\"لم أجد الملف عند {CSV_PATH}. عدّل المسار أو ارفع CSV الصحيح.\")\n",
        "\n",
        "df = pd.read_csv(CSV_PATH)\n",
        "\n",
        "lm_cols = [c for c in df.columns if c.startswith('lm_')]\n",
        "if not lm_cols:\n",
        "    raise ValueError(\"لم أجد أعمدة تبدأ بـ 'lm_'. تأكد من اسم الأعمدة فى ملفك.\")\n",
        "\n",
        "X_list, y_list = [], []\n",
        "for _, grp in df.groupby(VID_COL):\n",
        "    grp = grp.sort_values(FRAME_COL)\n",
        "    frames = grp[lm_cols].values.astype('float32')\n",
        "    # 1️⃣ تقييس لكل فريم (feature‑wise)\n",
        "    frames = (frames - frames.mean(axis=0)) / (frames.std(axis=0) + 1e-6)\n",
        "    label  = grp[LABEL_COL].iloc[0]\n",
        "    for i in range(0, len(frames) - N_FRAMES + 1):\n",
        "        X_list.append(frames[i:i+N_FRAMES])\n",
        "        y_list.append(label)\n",
        "\n",
        "X_seq = np.stack(X_list)\n",
        "from sklearn.preprocessing import LabelEncoder\n",
        "le = LabelEncoder(); y_enc = le.fit_transform(y_list)\n",
        "num_classes = len(le.classes_)\n",
        "print(f\"✔️ X_seq {X_seq.shape}, y_enc {y_enc.shape}, classes {num_classes}\")\n",
        "\n",
        "# ------------------------------------------------\n",
        "# 1) تقسيم البيانات 70/15/15\n",
        "# ------------------------------------------------\n",
        "from sklearn.model_selection import train_test_split\n",
        "TEST_SIZE, VAL_FRAC, SEED = 0.15, 0.176, 42\n",
        "\n",
        "X_temp, X_test, y_temp, y_test = train_test_split(X_seq, y_enc,\n",
        "    test_size=TEST_SIZE, random_state=SEED, stratify=y_enc)\n",
        "X_train, X_val, y_train, y_val = train_test_split(X_temp, y_temp,\n",
        "    test_size=VAL_FRAC, random_state=SEED, stratify=y_temp)\n",
        "\n",
        "from sklearn.utils.class_weight import compute_class_weight\n",
        "cw = compute_class_weight('balanced', classes=np.arange(num_classes), y=y_train)\n",
        "class_weights = {i: w for i, w in enumerate(cw)}\n",
        "print(\"Class weights:\", class_weights)\n",
        "\n",
        "from tensorflow.keras.utils import to_categorical\n",
        "\n",
        "y_train = to_categorical(y_train, num_classes)\n",
        "y_val   = to_categorical(y_val,   num_classes)\n",
        "y_test  = to_categorical(y_test,  num_classes)\n",
        "\n",
        "print(f\"Train {X_train.shape}, Val {X_val.shape}, Test {X_test.shape}\")\n",
        "\n",
        "# ------------------------------------------------\n",
        "# 2) tf.data.Dataset\n",
        "# ------------------------------------------------\n",
        "import tensorflow as tf\n",
        "BATCH = 32\n",
        "\n",
        "def make_ds(X, y, shuffle=False):\n",
        "    ds = tf.data.Dataset.from_tensor_slices((X, y))\n",
        "    if shuffle:\n",
        "        ds = ds.shuffle(buffer_size=len(X), seed=SEED)\n",
        "    return ds.batch(BATCH).prefetch(tf.data.AUTOTUNE)\n",
        "\n",
        "train_ds = make_ds(X_train, y_train, shuffle=True)\n",
        "val_ds   = make_ds(X_val,   y_val)\n",
        "test_ds  = make_ds(X_test,  y_test)\n",
        "\n",
        "del X_train, X_val, X_test, y_train, y_val, y_test, X_seq; gc.collect()\n",
        "\n",
        "# ------------------------------------------------\n",
        "# 3) نموذج جديد: إسقاط 128 + LSTM 128\n",
        "# ------------------------------------------------\n",
        "from tensorflow.keras.models import Sequential\n",
        "from tensorflow.keras.layers import LSTM, Dense, Dropout, BatchNormalization, TimeDistributed\n",
        "\n",
        "model = Sequential([\n",
        "    TimeDistributed(Dense(128, activation='relu'), input_shape=(N_FRAMES, len(lm_cols))),\n",
        "    LSTM(128),\n",
        "    BatchNormalization(),\n",
        "    Dropout(0.5),\n",
        "    Dense(64, activation='relu'),\n",
        "    Dropout(0.3),\n",
        "    Dense(num_classes, activation='softmax')\n",
        "])\n",
        "model.compile(optimizer=tf.keras.optimizers.Adam(3e-4),\n",
        "              loss='categorical_crossentropy',\n",
        "              metrics=['accuracy'])\n",
        "model.summary()\n",
        "\n",
        "# ------------------------------------------------\n",
        "# 4) التدريب\n",
        "# ------------------------------------------------\n",
        "callbacks = [\n",
        "    tf.keras.callbacks.ReduceLROnPlateau('val_loss', patience=6, factor=0.5),\n",
        "    tf.keras.callbacks.EarlyStopping('val_loss', patience=12, restore_best_weights=True)\n",
        "]\n",
        "\n",
        "history = model.fit(train_ds,\n",
        "                    validation_data=val_ds,\n",
        "                    epochs=60,\n",
        "                    callbacks=callbacks,\n",
        "                    class_weight=class_weights,\n",
        "                    verbose=2)\n",
        "\n",
        "train_ds = val_ds = None; gc.collect()\n",
        "\n",
        "# ------------------------------------------------\n",
        "# 5) التقييم\n",
        "# ------------------------------------------------\n",
        "probs = model.predict(test_ds, verbose=0)\n",
        "y_pred = np.argmax(probs, axis=1)\n",
        "y_true = np.argmax(np.concatenate([y for _, y in test_ds], axis=0), axis=1)\n",
        "\n",
        "from sklearn.metrics import classification_report, confusion_matrix, ConfusionMatrixDisplay\n",
        "print('\\nClassification Report (Test):\\n')\n",
        "print(classification_report(y_true, y_pred, target_names=le.classes_, digits=4))\n",
        "\n",
        "cm = confusion_matrix(y_true, y_pred)\n",
        "import matplotlib.pyplot as plt\n",
        "plt.figure(figsize=(6,6))\n",
        "ConfusionMatrixDisplay(cm, display_labels=le.classes_).plot(cmap=plt.cm.Blues, values_format='d')\n",
        "plt.title('Confusion Matrix – Test set')\n",
        "plt.show()\n"
      ]
    },
    {
      "cell_type": "code",
      "execution_count": 11,
      "metadata": {
        "colab": {
          "base_uri": "https://localhost:8080/"
        },
        "outputId": "1bbacd17-4ae5-4dbd-c0d7-ea4a2430fc80",
        "id": "56soX5lFcByV"
      },
      "outputs": [
        {
          "output_type": "stream",
          "name": "stderr",
          "text": [
            "WARNING:absl:You are saving your model as an HDF5 file via `model.save()` or `keras.saving.save_model(model)`. This file format is considered legacy. We recommend using instead the native Keras format, e.g. `model.save('my_model.keras')` or `keras.saving.save_model(model, 'my_model.keras')`. \n"
          ]
        },
        {
          "output_type": "stream",
          "name": "stdout",
          "text": [
            "✅ Model saved to /content/drive/My Drive/my_data/acc99_18_6.h5\n"
          ]
        }
      ],
      "source": [
        "MODEL_PATH = '/content/drive/My Drive/my_data/acc99_18_6.h5'\n",
        "model.save(MODEL_PATH)\n",
        "print(f\"✅ Model saved to {MODEL_PATH}\")\n"
      ]
    },
    {
      "cell_type": "code",
      "execution_count": 12,
      "metadata": {
        "colab": {
          "base_uri": "https://localhost:8080/",
          "height": 407
        },
        "outputId": "cce12774-8121-46ae-df26-230c6911b68c",
        "id": "-o0htBRtcQhv"
      },
      "outputs": [
        {
          "output_type": "display_data",
          "data": {
            "text/plain": [
              "<Figure size 1000x400 with 2 Axes>"
            ],
            "image/png": "[encoded data removed]"
          },
          "metadata": {}
        }
      ],
      "source": [
        "# 6) رسم منحنيات التعلم (Learning Curves)\n",
        "# ------------------------------------------------\n",
        "plt.figure(figsize=(10,4))\n",
        "plt.subplot(1,2,1)\n",
        "plt.plot(history.history['accuracy'], label='Train Acc')\n",
        "plt.plot(history.history['val_accuracy'], label='Val Acc')\n",
        "plt.xlabel('Epoch'); plt.ylabel('Accuracy'); plt.title('Accuracy Curve'); plt.legend()\n",
        "\n",
        "plt.subplot(1,2,2)\n",
        "plt.plot(history.history['loss'], label='Train Loss')\n",
        "plt.plot(history.history['val_loss'], label='Val Loss')\n",
        "plt.xlabel('Epoch'); plt.ylabel('Loss'); plt.title('Loss Curve'); plt.legend()\n",
        "plt.tight_layout()\n",
        "plt.show()\n"
      ]
    },
    {
      "cell_type": "code",
      "execution_count": 12,
      "metadata": {
        "colab": {
          "base_uri": "https://localhost:8080/"
        },
        "outputId": "21178d39-ff2a-453d-cf9b-484f08cf6b6d",
        "id": "oxPEM7-bezuL"
      },
      "outputs": [
        {
          "output_type": "stream",
          "name": "stderr",
          "text": [
            "WARNING:absl:Compiled the loaded model, but the compiled metrics have yet to be built. `model.compile_metrics` will be empty until you train or evaluate the model.\n"
          ]
        },
        {
          "output_type": "stream",
          "name": "stdout",
          "text": [
            "✅ Annotated video saved to /content/annotated_video.mp4\n",
            "🔎 Majority prediction for the clip: fearful\n"
          ]
        }
      ],
      "source": [
        "# =========================  خلية اختبار فيديو خارجي  =========================\n",
        "VIDEO_PATH   = '/content/drive/MyDrive/01-01-06-01-02-02-24.mp4'       # ← مسار الفيديو الذي تريد اختباره\n",
        "MODEL_PATH   = '/content/drive/My Drive/my_data/acc99_18_6.h5'             # ← الموديل الذي حفظته\n",
        "MEAN_PATH    = '/content/feat_mean.npy'        # ← ملف المتوسط المحفوظ أثناء التدريب\n",
        "STD_PATH     = '/content/feat_std.npy'         # ← ملف الانحراف المعياري\n",
        "OUTPUT_PATH  = '/content/annotated_video.mp4'  # ← اسم ملف الإخراج\n",
        "N_FRAMES     = 5                            # يجب أن يطابق قيمة التدريب\n",
        "\n",
        "# --------------------------------------------------------------------------- #\n",
        "import os, subprocess, cv2, numpy as np, mediapipe as mp, tensorflow as tf\n",
        "from tensorflow.keras.models import load_model\n",
        "\n",
        "# 😎 تحميل الموديل والإحصاءات\n",
        "model      = load_model(MODEL_PATH)\n",
        "feat_mean  = np.load(MEAN_PATH)\n",
        "feat_std   = np.load(STD_PATH)\n",
        "le_classes = np.array(['angry','calm','disgust','fearful',\n",
        "                       'happy','natural','sad','superised'])\n",
        "\n",
        "\n",
        "# 🎥 إعداد قراءة الفيديو والكتابة\n",
        "cap = cv2.VideoCapture(VIDEO_PATH)\n",
        "fps = cap.get(cv2.CAP_PROP_FPS) or 25\n",
        "w,  h  = int(cap.get(cv2.CAP_PROP_FRAME_WIDTH)), int(cap.get(cv2.CAP_PROP_FRAME_HEIGHT))\n",
        "fourcc = cv2.VideoWriter_fourcc(*'mp4v')\n",
        "tmp_no_audio = 'tmp_no_audio.mp4'\n",
        "writer = cv2.VideoWriter(tmp_no_audio, fourcc, fps, (w, h))\n",
        "\n",
        "# 🖐 تهيئة MediaPipe FaceMesh\n",
        "mp_face = mp.solutions.face_mesh.FaceMesh(static_image_mode=False, refine_landmarks=False)\n",
        "\n",
        "seq_buffer, preds = [], []\n",
        "while True:\n",
        "    ret, frame = cap.read()\n",
        "    if not ret: break\n",
        "\n",
        "    rgb = cv2.cvtColor(frame, cv2.COLOR_BGR2RGB)\n",
        "    res = mp_face.process(rgb)\n",
        "\n",
        "    if res.multi_face_landmarks:\n",
        "        lm = res.multi_face_landmarks[0]\n",
        "        # ✨ استخدم أول 468 نقطة (468×3 = 1404) مثل التدريب\n",
        "        coords = np.array([[p.x, p.y, p.z] for p in lm.landmark[:468]], dtype=np.float32).flatten()\n",
        "        coords = (coords - feat_mean) / (feat_std + 1e-6)        # نفس التطبيع\n",
        "        seq_buffer.append(coords)\n",
        "\n",
        "        if len(seq_buffer) == N_FRAMES:\n",
        "            window = np.stack(seq_buffer, axis=0)[None, ...]     # (1, N_FRAMES, 1404)\n",
        "            pred_idx = model.predict(window, verbose=0).argmax()\n",
        "            label    = le_classes[pred_idx]\n",
        "            preds.append(pred_idx)\n",
        "            seq_buffer.pop(0)                                    # انزِل للإطارات التالية\n",
        "\n",
        "            cv2.putText(frame, label, (30, 60), cv2.FONT_HERSHEY_SIMPLEX,\n",
        "                        2, (0, 255, 0), 4, cv2.LINE_AA)\n",
        "\n",
        "    writer.write(frame)\n",
        "\n",
        "cap.release(); writer.release(); mp_face.close()\n",
        "\n",
        "# 🔊 دمج الصوت الأصلي مع الفيديو المعلَّق\n",
        "subprocess.run([\n",
        "    'ffmpeg', '-y',\n",
        "    '-i', tmp_no_audio, '-i', VIDEO_PATH,\n",
        "    '-c', 'copy', '-map', '0:v:0', '-map', '1:a:0', OUTPUT_PATH\n",
        "], stdout=subprocess.DEVNULL, stderr=subprocess.DEVNULL)\n",
        "os.remove(tmp_no_audio)\n",
        "\n",
        "print(f'✅ Annotated video saved to {OUTPUT_PATH}')\n",
        "if preds:\n",
        "    majority = le_classes[np.bincount(preds).argmax()]\n",
        "    print(f'🔎 Majority prediction for the clip: {majority}')\n",
        "# ============================================================================ #\n"
      ]
    }
  ],
  "metadata": {
    "accelerator": "GPU",
    "colab": {
      "gpuType": "T4",
      "provenance": [],
      "authorship_tag": "ABX9TyOrir+XV0PPNe6HHJZXahxr",
      "include_colab_link": true
    },
    "kernelspec": {
      "display_name": "Python 3",
      "name": "python3"
    },
    "language_info": {
      "name": "python"
    }
  },
  "nbformat": 4,
  "nbformat_minor": 0
}